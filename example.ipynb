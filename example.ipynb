{
 "cells": [
  {
   "cell_type": "code",
   "execution_count": 1,
   "metadata": {
    "collapsed": false
   },
   "outputs": [],
   "source": [
    "from pynances.pynance import Pynance \n",
    "\n",
    "import plotly\n",
    "import os\n",
    "import collections\n",
    "\n",
    "# Enable inline plotting\n",
    "%matplotlib inline\n",
    "#plotly.offline.init_notebook_mode() # run at the start of every notebook\n",
    "\n",
    "# define grouping dictionary for categories\n",
    "groupingDict = {\n",
    "    'Overhead'     : ['Evil landlord', 'Insurance'],\n",
    "    'Orderings'    : ['Amazon', 'Paypal'],\n",
    "    'Housekeeping' : ['Rewe', 'Aldi', 'Real', 'Edeka', 'E-Center', 'Rossmann', 'OBI', 'LIDL'],\n",
    "    'Gas'          : ['Aral', 'Esso', 'Shell', 'Total', 'Jet', 'OMV', 'ELO', 'SUPOL'],    \n",
    "    'Income'       : ['Some Company']}\n",
    "\n",
    "# init object, read in files and set categories\n",
    "pyn = Pynance()\n",
    "pyn.readCSV(os.getcwd() + r'\\example_csvs\\example_dkb.csv', 'DKB_giro')\n",
    "pyn.readCSV(os.getcwd() + r'\\example_csvs\\example_consors.csv', 'Consors_giro')\n",
    "pyn.setGroups(groupingDict)"
   ]
  },
  {
   "cell_type": "code",
   "execution_count": 2,
   "metadata": {
    "collapsed": false
   },
   "outputs": [
    {
     "data": {},
     "metadata": {},
     "output_type": "display_data"
    }
   ],
   "source": [
    "# create and save current money plot to a html div tag container\n",
    "divCurrentMoney = pyn.plotCurrentMoney()"
   ]
  },
  {
   "cell_type": "code",
   "execution_count": null,
   "metadata": {
    "collapsed": false,
    "scrolled": true
   },
   "outputs": [],
   "source": [
    "# setup categories and subcategories in tuples, which shall be displayed in a plot \n",
    "# ( <categories-name>, <list-of-sub-categories> )\n",
    "columnDict = collections.OrderedDict([('Overhead', 'Overhead'),\n",
    "            ('Expenses', ['Orderings', 'Housekeeping', 'Gas'])])\n",
    "\n",
    "# create and save monthly expenses to a html div tag container\n",
    "divExpenses = pyn.plotMonthlyStackedBar(columnDict, plotTitle='Monthly expenses', filterPosValues=True, negateValues=True)\n",
    "monthlyExpenses = pyn.getMonthly(columnDict, filterPosValues=True, negateValues=True)\n",
    "verticalSpace = \"<div style='height:40px;'></div>\"\n",
    "divExpensesDescribe = verticalSpace + monthlyExpenses.to_html()"
   ]
  },
  {
   "cell_type": "code",
   "execution_count": null,
   "metadata": {
    "collapsed": false
   },
   "outputs": [],
   "source": [
    "# setup categories and subcategories in tuples, which shall be displayed in a plot \n",
    "# ( <categories-name>, <list-of-sub-categories> )\n",
    "columnDict = collections.OrderedDict([('Income', 'Income')])\n",
    "\n",
    "# create and save monthly income to a html div tag container\n",
    "divIncome = pyn.plotMonthlyStackedBar(columnDict, plotTitle=\"Income\", filterNegValues=True)"
   ]
  },
  {
   "cell_type": "code",
   "execution_count": null,
   "metadata": {
    "collapsed": false
   },
   "outputs": [],
   "source": [
    "# Create a annuity object with parameters\n",
    "%run pynances/annuity.py\n",
    "annuity = Annuity(loan=100000, interest=2.5, annuity=500)\n",
    "#annuity.addAnnuity(loan=50000, interest=2.35, annuity=200)\n",
    "\n",
    "# create and save annuity graph to a html div tag container\n",
    "divAnnuity = annuity.plotAnnuityGraph()"
   ]
  },
  {
   "cell_type": "code",
   "execution_count": null,
   "metadata": {
    "collapsed": false
   },
   "outputs": [],
   "source": [
    "# Print out all graphs into an html file\n",
    "f = open('example.html','w')\n",
    "f.write('<body style=\"justify-content: center;\">')\n",
    "f.write(divCurrentMoney + divExpenses + divExpensesDescribe + divIncome + divAnnuity)\n",
    "f.write('</body>')\n",
    "f.close()"
   ]
  },
  {
   "cell_type": "code",
   "execution_count": null,
   "metadata": {
    "collapsed": true
   },
   "outputs": [],
   "source": []
  }
 ],
 "metadata": {
  "anaconda-cloud": {},
  "kernelspec": {
   "display_name": "Python [python35]",
   "language": "python",
   "name": "Python [python35]"
  },
  "language_info": {
   "codemirror_mode": {
    "name": "ipython",
    "version": 3
   },
   "file_extension": ".py",
   "mimetype": "text/x-python",
   "name": "python",
   "nbconvert_exporter": "python",
   "pygments_lexer": "ipython3",
   "version": "3.5.2"
  }
 },
 "nbformat": 4,
 "nbformat_minor": 1
}
