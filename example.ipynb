{
 "cells": [
  {
   "cell_type": "code",
   "execution_count": null,
   "metadata": {
    "collapsed": false
   },
   "outputs": [],
   "source": [
    "from pynances.pynance import Pynance \n",
    "\n",
    "import plotly\n",
    "import os\n",
    "\n",
    "# Enable inline plotting\n",
    "%matplotlib inline\n",
    "plotly.offline.init_notebook_mode() # run at the start of every notebook\n",
    "\n",
    "dkb_giro  = os.getcwd() + r'\\example_csvs\\example_dkb.csv'\n",
    "\n",
    "groupingList = {\n",
    "    'Overhead'     : ['Evil landlord', 'Insurance'],\n",
    "    'Orderings'    : ['Amazon', 'Paypal'],\n",
    "    'Housekeeping' : ['Rewe', 'Aldi', 'Real', 'Edeka', 'E-Center', 'Rossmann', 'OBI', 'LIDL'],\n",
    "    'Gas'          : ['Aral', 'Esso', 'Shell', 'Total', 'Jet', 'OMV', 'ELO', 'SUPOL'],    \n",
    "    'Income'       : ['Some Company']}\n"
   ]
  },
  {
   "cell_type": "code",
   "execution_count": null,
   "metadata": {
    "collapsed": false
   },
   "outputs": [],
   "source": [
    "pyn = Pynance()\n",
    "pyn.readCSV(dkb_giro, 'DKB_giro')\n",
    "\n",
    "pyn.setGroups(groupingList)\n",
    "\n",
    "import collections\n",
    "\n",
    "columnDict = collections.OrderedDict([('Overhead', 'Overhead'),\n",
    "            ('Expenses', ['Orderings', 'Housekeeping', 'Gas'])])\n",
    "\n",
    "pyn.plotMonthlyStackedBar(columnDict, plotTitle='Monthly expenses', filterPosValues=True, negateValues=True)"
   ]
  },
  {
   "cell_type": "code",
   "execution_count": null,
   "metadata": {
    "collapsed": false
   },
   "outputs": [],
   "source": [
    "columnDict = collections.OrderedDict([('Income', 'Income')])\n",
    "\n",
    "pyn.plotMonthlyStackedBar(columnDict, plotTitle=\"Income\", filterNegValues=True)"
   ]
  },
  {
   "cell_type": "code",
   "execution_count": null,
   "metadata": {
    "collapsed": false
   },
   "outputs": [],
   "source": [
    "%run pynances/annuity.py\n",
    "#Finance.plotCurrentMoney()\n",
    "annuity = Annuity(loan=100000, interest=2.5, annuity=500)\n",
    "annuity.addAnnuity(loan=50000, interest=2.35, annuity=200)\n",
    "annuity.plotAnnuityGraph()"
   ]
  },
  {
   "cell_type": "code",
   "execution_count": null,
   "metadata": {
    "collapsed": true
   },
   "outputs": [],
   "source": []
  }
 ],
 "metadata": {
  "anaconda-cloud": {},
  "kernelspec": {
   "display_name": "Python [python35]",
   "language": "python",
   "name": "Python [python35]"
  },
  "language_info": {
   "codemirror_mode": {
    "name": "ipython",
    "version": 3
   },
   "file_extension": ".py",
   "mimetype": "text/x-python",
   "name": "python",
   "nbconvert_exporter": "python",
   "pygments_lexer": "ipython3",
   "version": "3.5.2"
  }
 },
 "nbformat": 4,
 "nbformat_minor": 1
}
